{
 "cells": [
  {
   "cell_type": "code",
   "execution_count": 1,
   "metadata": {},
   "outputs": [],
   "source": [
    "import json\n",
    "import numpy as np\n",
    "import tensorflow as tf"
   ]
  },
  {
   "cell_type": "code",
   "execution_count": 2,
   "metadata": {},
   "outputs": [],
   "source": [
    "reader = tf.train.NewCheckpointReader('../../electra_for_ner/model/0917_6_pro/model.ckpt-5714')\n",
    "all_variables = reader.get_variable_to_shape_map()"
   ]
  },
  {
   "cell_type": "code",
   "execution_count": 3,
   "metadata": {},
   "outputs": [],
   "source": [
    "# hidden_w = reader.get_tensor(\"task_specific/project/hidden/W\")\n",
    "# hidden_b = reader.get_tensor(\"task_specific/project/hidden/b\")\n",
    "# logits_w = reader.get_tensor(\"task_specific/project/logits/W\")\n",
    "# logits_b = reader.get_tensor(\"task_specific/project/logits/b\")\n",
    "bert_embedding = reader.get_tensor(\"electra/embeddings/word_embeddings\")\n",
    "trans_matrix = reader.get_tensor(\"task_specific/crf_loss/transitions\")"
   ]
  },
  {
   "cell_type": "code",
   "execution_count": 4,
   "metadata": {},
   "outputs": [],
   "source": [
    "# hidden_w_list = hidden_w.tolist()\n",
    "# hidden_b_list = hidden_b.tolist()\n",
    "# logits_w_list = logits_w.tolist()\n",
    "# logits_b_list = logits_b.tolist()\n",
    "bert_embedding_list = bert_embedding.tolist()\n",
    "trans_matrix_list = trans_matrix.tolist()"
   ]
  },
  {
   "cell_type": "code",
   "execution_count": 5,
   "metadata": {},
   "outputs": [],
   "source": [
    "weights = {\n",
    "#     \"hidden_w\": hidden_w_list,\n",
    "#     \"hidden_b\": hidden_b_list, \n",
    "#     \"logits_w\": logits_w_list,\n",
    "#     \"logits_b\": logits_b_list,\n",
    "    \"bert_embedding\": bert_embedding_list,\n",
    "    \"trans_matrix\": trans_matrix_list\n",
    "}"
   ]
  },
  {
   "cell_type": "code",
   "execution_count": 6,
   "metadata": {},
   "outputs": [],
   "source": [
    "with open(\"./data/ner_weights.json\", \"w\", encoding=\"utf-8\") as outf:\n",
    "    outf.write(json.dumps(weights, ensure_ascii=False))"
   ]
  },
  {
   "cell_type": "code",
   "execution_count": null,
   "metadata": {},
   "outputs": [],
   "source": []
  }
 ],
 "metadata": {
  "kernelspec": {
   "display_name": "Python 3",
   "language": "python",
   "name": "python3"
  },
  "language_info": {
   "codemirror_mode": {
    "name": "ipython",
    "version": 3
   },
   "file_extension": ".py",
   "mimetype": "text/x-python",
   "name": "python",
   "nbconvert_exporter": "python",
   "pygments_lexer": "ipython3",
   "version": "3.6.6"
  }
 },
 "nbformat": 4,
 "nbformat_minor": 4
}
